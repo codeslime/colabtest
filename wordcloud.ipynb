{
  "nbformat": 4,
  "nbformat_minor": 0,
  "metadata": {
    "colab": {
      "name": "wordcloud.ipynb",
      "provenance": [],
      "authorship_tag": "ABX9TyO+WiVUWCZkAscvDD30HE4H",
      "include_colab_link": true
    },
    "kernelspec": {
      "name": "python3",
      "display_name": "Python 3"
    },
    "language_info": {
      "name": "python"
    }
  },
  "cells": [
    {
      "cell_type": "markdown",
      "metadata": {
        "id": "view-in-github",
        "colab_type": "text"
      },
      "source": [
        "<a href=\"https://colab.research.google.com/github/codeslime/colabtest/blob/main/wordcloud.ipynb\" target=\"_parent\"><img src=\"https://colab.research.google.com/assets/colab-badge.svg\" alt=\"Open In Colab\"/></a>"
      ]
    },
    {
      "cell_type": "code",
      "metadata": {
        "colab": {
          "base_uri": "https://localhost:8080/",
          "height": 442
        },
        "id": "Nc6ocK1LWbRd",
        "outputId": "42c9c0da-3c48-4d06-f839-8181c9650984"
      },
      "source": [
        "from wordcloud import WordCloud, STOPWORDS \n",
        "import matplotlib.pyplot as plt \n",
        "import pandas as pd \n",
        "\n",
        "df1 = pd.read_csv('five_star_reviews.csv')\n",
        "df1.head()\n",
        "\n",
        "df2 = pd.read_csv('one_star_reviews.csv')\n",
        "df2.head()\n",
        "\n",
        "stopwords = set(STOPWORDS) \n",
        "words = ''\n",
        "for review in df1.Review:\n",
        "    tokens = str(review).split()\n",
        "    tokens = [i.lower() for i in tokens]\n",
        "    \n",
        "    words += ' '.join(tokens) + ' '\n",
        "    \n",
        "wordcloud = WordCloud(width = 800, height = 800, \n",
        "                background_color ='white', \n",
        "                stopwords = stopwords, \n",
        "                min_font_size = 10).generate(words) \n",
        "  \n",
        "# plot the WordCloud image                        \n",
        "plt.figure(figsize = (8, 8), facecolor = None) \n",
        "plt.imshow(wordcloud) \n",
        "plt.axis(\"off\") \n",
        "plt.tight_layout(pad = 0) \n",
        "  \n",
        "plt.show() "
      ],
     
      
    }
  ]
}
