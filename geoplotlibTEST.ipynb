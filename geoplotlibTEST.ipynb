{
  "nbformat": 4,
  "nbformat_minor": 0,
  "metadata": {
    "colab": {
      "name": "geoplotlibTEST.ipynb",
      "provenance": [],
      "authorship_tag": "ABX9TyOQDoutk/zMXBbDAs0rbaUH",
      "include_colab_link": true
    },
    "kernelspec": {
      "name": "python3",
      "display_name": "Python 3"
    },
    "language_info": {
      "name": "python"
    }
  },
  "cells": [
    {
      "cell_type": "markdown",
      "metadata": {
        "id": "view-in-github",
        "colab_type": "text"
      },
      "source": [
        "<a href=\"https://colab.research.google.com/github/codeslime/colabtest/blob/main/geoplotlibTEST.ipynb\" target=\"_parent\"><img src=\"https://colab.research.google.com/assets/colab-badge.svg\" alt=\"Open In Colab\"/></a>"
      ]
    },
    {
      "cell_type": "code",
      "metadata": {
        "id": "i4y1qrcpcRxS"
      },
      "source": [
        "!pip install geoplotlib\n",
        "!pip insall pyglet"
      ],
      "execution_count": null,
      "outputs": []
    },
    {
      "cell_type": "code",
      "metadata": {
        "id": "aEI3y5d_b4Px"
      },
      "source": [
        "import geoplotlib\n",
        "from geoplotlib.utils import read_csv\n"
      ],
      "execution_count": null,
      "outputs": []
    },
    {
      "cell_type": "code",
      "metadata": {
        "id": "sUM2Z12PdPVT"
      },
      "source": [
        "dataset=read_csv('....csv')\n",
        "geoplotlib.dot(dataset)\n",
        "geoplotlib.show()"
      ],
      "execution_count": null,
      "outputs": []
    },
    {
      "cell_type": "code",
      "metadata": {
        "id": "8linDGZoeZ8S"
      },
      "source": [
        "from geoplotlib.utils import DataAccessObject\n",
        "import pandas as pd"
      ],
      "execution_count": null,
      "outputs": []
    },
    {
      "cell_type": "code",
      "metadata": {
        "id": "OQLBY95petvi"
      },
      "source": [
        "pd_dataset=pd.read_csv('poaching_points_cleaned.csv')\n",
        "dataset=DataAccessObject(pd_dataset)\n"
      ],
      "execution_count": null,
      "outputs": []
    }
  ]
}